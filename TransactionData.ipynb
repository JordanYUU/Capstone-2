{
 "cells": [
  {
   "cell_type": "markdown",
   "id": "699fefc4-5366-496e-b98f-be079cc3ab3d",
   "metadata": {},
   "source": [
    "# Transaction Data"
   ]
  },
  {
   "cell_type": "markdown",
   "id": "e96b253e-e637-45f3-9e2e-f630a303b5e1",
   "metadata": {},
   "source": [
    "### Import Modules"
   ]
  },
  {
   "cell_type": "code",
   "execution_count": null,
   "id": "e6f2172d-6b43-48ad-a879-e510a6bec300",
   "metadata": {},
   "outputs": [],
   "source": [
    "import numpy as np\n",
    "import pandas as pd\n",
    "import matplotlib.pyplot as plt"
   ]
  },
  {
   "cell_type": "markdown",
   "id": "9c70b5ea-c198-4ba2-84d9-2b58b165d4d6",
   "metadata": {},
   "source": [
    "### Import Transaction Data"
   ]
  },
  {
   "cell_type": "code",
   "execution_count": null,
   "id": "2664358e-ab4e-4305-afcd-21b81f836127",
   "metadata": {
    "scrolled": true
   },
   "outputs": [],
   "source": [
    "dataframe = input(\"Please enter the file path:\")\n",
    "try:\n",
    "    df = pd.read_csv(dataframe)\n",
    "    print('''Loaded!\n",
    "    ''')\n",
    "    print(df.head(10))\n",
    "except FileNotFoundError:\n",
    "    print(f\"Error: {dataframe} could not be found.\")\n",
    "\n",
    "pd.options.display.max_rows = None"
   ]
  },
  {
   "cell_type": "markdown",
   "id": "e681ad61-3ba3-4124-b6a3-7f2aa622d0e7",
   "metadata": {},
   "source": [
    "### Data Review"
   ]
  },
  {
   "cell_type": "code",
   "execution_count": null,
   "id": "2003225d-ddbb-4043-befa-cdb96bcce560",
   "metadata": {},
   "outputs": [],
   "source": [
    "df.head(50)\n",
    "df.info()\n",
    "df[['UnitPrice', 'Quantity', 'Subtotal', 'Tax(8%)', 'OrderTotal']].describe()\n",
    "# Couldn't seem to pull the Tax and Order Total columns"
   ]
  },
  {
   "cell_type": "markdown",
   "id": "202770f2-41be-451b-a740-33a226efc179",
   "metadata": {},
   "source": [
    "### Normalization of data"
   ]
  },
  {
   "cell_type": "code",
   "execution_count": null,
   "id": "c48ab962-6fb9-4f0e-8e0b-9ef66ee71a35",
   "metadata": {},
   "outputs": [],
   "source": [
    "df = df.drop(columns=['Date', 'Tax(8%)'])\n",
    "df"
   ]
  },
  {
   "cell_type": "markdown",
   "id": "e7059740-7b52-48b0-bb2d-eab0e414811b",
   "metadata": {
    "jp-MarkdownHeadingCollapsed": true
   },
   "source": [
    "### Analysis: Vendors"
   ]
  },
  {
   "cell_type": "code",
   "execution_count": null,
   "id": "98b17e5e-1caa-4325-841e-66e8ee63bbdf",
   "metadata": {},
   "outputs": [],
   "source": [
    "df_comp = df.groupby(['ProductVendor']).sum(['Quantity', 'UnitPrice', 'OrderTotal'])\n",
    "df_comp = df_comp.drop(columns=['TransactionID','CustID', 'VendorID', 'ProductID'])\n",
    "df_comp"
   ]
  },
  {
   "cell_type": "code",
   "execution_count": null,
   "id": "f093137f-198f-4f1b-a45c-181015291592",
   "metadata": {
    "scrolled": true
   },
   "outputs": [],
   "source": [
    "df_comp['OrderTotal'].plot(kind='bar', figsize=(20,15), color='y')\n",
    "plt.title('Revenue By Vendor')\n",
    "plt.xlabel('Vendor')\n",
    "plt.ylabel('Revenue')\n",
    "plt.show()"
   ]
  },
  {
   "cell_type": "markdown",
   "id": "d1206cd5-2452-4983-a57f-1c162f81ee51",
   "metadata": {},
   "source": [
    "There are a few outliers like Plutzer, Pavlova, Aux joyeux at the high end, and Escargot and others on the lower end.\n",
    "\n",
    "We can deduce that the outliers are in part due to their high unit prices, and that the overall amount of units sold has a good average across most vendors."
   ]
  },
  {
   "cell_type": "markdown",
   "id": "061326db-8ea8-4f65-bffd-51e6fcfed3ba",
   "metadata": {},
   "source": [
    "### Analysis: Products"
   ]
  },
  {
   "cell_type": "code",
   "execution_count": null,
   "id": "07eb2805-4d31-4ccb-b14d-6900d9123276",
   "metadata": {
    "scrolled": true
   },
   "outputs": [],
   "source": [
    "df_prod = df.groupby(['ProductName']).sum(['Quantity', 'UnitPrice', 'OrderTotal'])\n",
    "df_prod = df_prod.drop(columns=['TransactionID', 'CustID', 'ProductID', 'VendorID'])\n",
    "df_prod"
   ]
  },
  {
   "cell_type": "code",
   "execution_count": null,
   "id": "0413eb2c-1556-463e-8d83-91324c06c155",
   "metadata": {},
   "outputs": [],
   "source": [
    "df_prod['OrderTotal'].plot(kind='bar', figsize=(20,15), color='b')\n",
    "plt.title('Revenue By Product')\n",
    "plt.xlabel('Vendor')\n",
    "plt.ylabel('Revenue')\n",
    "plt.show()"
   ]
  },
  {
   "cell_type": "markdown",
   "id": "442c7a57-3b80-41f2-ad5e-791b51e6e256",
   "metadata": {},
   "source": [
    "Again, the outliers here are products of the same outliers from the Vendors graph.\n",
    "Most things are selling tons of units, though it may be a good idea to further invest into the average products to lessen the gap between the lowest and highest values."
   ]
  },
  {
   "cell_type": "markdown",
   "id": "bec14c6b-639d-43bc-9e77-578bd2b16a32",
   "metadata": {},
   "source": [
    "### Analysis: Employees"
   ]
  },
  {
   "cell_type": "code",
   "execution_count": null,
   "id": "a8efc03e-85b5-4f9c-b14a-eb91a6b2a63c",
   "metadata": {},
   "outputs": [],
   "source": [
    "df_emp = df.groupby(['Employee']).sum(['Quantity', 'UnitPrice', 'OrderTotal'])\n",
    "df_emp = df_emp.drop(columns=['CustID','VendorID', 'TransactionID', 'ProductID'])\n",
    "df_emp"
   ]
  },
  {
   "cell_type": "code",
   "execution_count": null,
   "id": "fbf823e0-e8b0-44d3-9ffd-547ab9fb054b",
   "metadata": {},
   "outputs": [],
   "source": [
    "df_emp['Quantity'].plot(kind='pie')\n",
    "plt.title('Items Sold By Employee')\n",
    "plt.ylabel('')\n",
    "plt.show()"
   ]
  },
  {
   "cell_type": "markdown",
   "id": "74c7e886-22b4-42f2-9f83-65f23a836374",
   "metadata": {},
   "source": [
    "*Wanted to create a ranking but couldn't get it to work the way I wanted.*\n",
    "\n",
    "prod_rank_max = df_comp.rank(ascending=False)\n",
    "prod_rank_min = df_comp.rank(ascending=False, method='min')\n",
    "prod_rank_max"
   ]
  },
  {
   "cell_type": "code",
   "execution_count": null,
   "id": "5ef4daf1-b449-4b55-b971-9608e9ff2f8c",
   "metadata": {},
   "outputs": [],
   "source": [
    "df.to_csv('Transaction_Data_New.csv', index=False)\n",
    "print('New file saved in Jupyter!')"
   ]
  }
 ],
 "metadata": {
  "kernelspec": {
   "display_name": "Python 3 (ipykernel)",
   "language": "python",
   "name": "python3"
  },
  "language_info": {
   "codemirror_mode": {
    "name": "ipython",
    "version": 3
   },
   "file_extension": ".py",
   "mimetype": "text/x-python",
   "name": "python",
   "nbconvert_exporter": "python",
   "pygments_lexer": "ipython3",
   "version": "3.13.0rc1"
  }
 },
 "nbformat": 4,
 "nbformat_minor": 5
}
